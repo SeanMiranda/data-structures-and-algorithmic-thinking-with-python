{
 "cells": [
  {
   "cell_type": "code",
   "execution_count": 51,
   "metadata": {},
   "outputs": [],
   "source": [
    "array = [1, 2, 3, 4, 0]"
   ]
  },
  {
   "cell_type": "code",
   "execution_count": 52,
   "metadata": {},
   "outputs": [],
   "source": [
    "# Brute force approach\n",
    "def bruteForce(array):\n",
    "    for i in range(len(array)):\n",
    "        for j in range(i+1, len(array)):\n",
    "            if array[i] == array[j]:\n",
    "                return True\n",
    "    return False\n",
    "\n",
    "bruteForce(array)"
   ]
  },
  {
   "cell_type": "code",
   "execution_count": 54,
   "metadata": {},
   "outputs": [],
   "source": [
    "# Using sorting\n",
    "def sortingMethod(array):\n",
    "    array.sort()\n",
    "    for i in range(len(array)-1):\n",
    "        if array[i] == array[i+1]:\n",
    "            return True\n",
    "        \n",
    "    return False\n",
    "sortingMethod(array)"
   ]
  },
  {
   "cell_type": "code",
   "execution_count": 56,
   "metadata": {},
   "outputs": [],
   "source": [
    "# Hashing Technique\n",
    "def hashingTechnique(array):\n",
    "    count = {}\n",
    "    for ele in array:\n",
    "        if ele not in count:\n",
    "            count[ele] = 1\n",
    "        else:\n",
    "            return True\n",
    "    return False\n",
    "hashingTechnique(array)"
   ]
  },
  {
   "cell_type": "code",
   "execution_count": 58,
   "metadata": {},
   "outputs": [],
   "source": [
    "# Negation technique\n",
    "def negationTechnique(array):\n",
    "    for i in range(len(array)):\n",
    "        if array[i] < 0:\n",
    "            return True\n",
    "        else:\n",
    "            array[array[i]] = -array[array[i]]\n",
    "    return False\n",
    "negationTechnique(array)"
   ]
  }
 ],
 "metadata": {
  "kernelspec": {
   "display_name": "Python 3",
   "language": "python",
   "name": "python3"
  },
  "language_info": {
   "codemirror_mode": {
    "name": "ipython",
    "version": 3
   },
   "file_extension": ".py",
   "mimetype": "text/x-python",
   "name": "python",
   "nbconvert_exporter": "python",
   "pygments_lexer": "ipython3",
   "version": "3.7.4"
  }
 },
 "nbformat": 4,
 "nbformat_minor": 4
}
