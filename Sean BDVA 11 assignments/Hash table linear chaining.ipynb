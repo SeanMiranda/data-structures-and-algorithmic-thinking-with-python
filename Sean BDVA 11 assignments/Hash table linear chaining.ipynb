{
 "cells": [
  {
   "cell_type": "code",
   "execution_count": 8,
   "metadata": {},
   "outputs": [],
   "source": [
    "class Node:\n",
    "    def __init__(self, key=None, value=None):\n",
    "        self.next = None\n",
    "        self.key = key\n",
    "        self.value = value\n",
    "\n",
    "\n",
    "class LinkedList:\n",
    "    \n",
    "    def __init__(self):\n",
    "        self.head = None\n",
    "        \n",
    "    def addNode(self, key, value):\n",
    "        node = Node(key, value)\n",
    "        \n",
    "        if self.head == None:\n",
    "            self.head = node\n",
    "        else:\n",
    "            head = self.head\n",
    "            while(head.next!=None):\n",
    "                head = head.next\n",
    "            head.next = node\n",
    "            \n",
    "    def search(self, value):\n",
    "        if self.head == None:\n",
    "            return 'empty linked list'\n",
    "        else:\n",
    "            node = self.head\n",
    "            while(node!= None):\n",
    "                if node.value == value:\n",
    "                    return 'found'\n",
    "                node = node.next\n",
    "            return 'not found'\n",
    "        \n",
    "        \n",
    "class HashingTable:\n",
    "    \n",
    "    def __init__(self):\n",
    "        self.m = 10\n",
    "        self.table = []\n",
    "        \n",
    "        for i in range(self.m):\n",
    "            self.table.append(LinkedList())\n",
    "\n",
    "    def hashFunction(self, value):\n",
    "        return value % self.m\n",
    "    \n",
    "    def hashData(self, array):\n",
    "        for i in range(len(array)):\n",
    "            key = self.hashFunction(array[i])\n",
    "            value = array[i]\n",
    "            self.table[key].addNode(key,value)\n",
    "            \n",
    "    def findValue(self, value):\n",
    "        key = self.hashFunction(value)\n",
    "        \n",
    "        ll = self.table[key]\n",
    "        return ll.search(value)\n",
    "        "
   ]
  },
  {
   "cell_type": "code",
   "execution_count": 13,
   "metadata": {},
   "outputs": [
    {
     "data": {
      "text/plain": [
       "'empty linked list'"
      ]
     },
     "execution_count": 13,
     "metadata": {},
     "output_type": "execute_result"
    }
   ],
   "source": [
    "array = [12, 25, 92, 58, 57, 69]\n",
    "h = HashingTable()\n",
    "h.hashData(array)\n",
    "h.findValue(46)"
   ]
  },
  {
   "cell_type": "code",
   "execution_count": null,
   "metadata": {},
   "outputs": [],
   "source": []
  }
 ],
 "metadata": {
  "kernelspec": {
   "display_name": "Python 3",
   "language": "python",
   "name": "python3"
  },
  "language_info": {
   "codemirror_mode": {
    "name": "ipython",
    "version": 3
   },
   "file_extension": ".py",
   "mimetype": "text/x-python",
   "name": "python",
   "nbconvert_exporter": "python",
   "pygments_lexer": "ipython3",
   "version": "3.7.4"
  }
 },
 "nbformat": 4,
 "nbformat_minor": 4
}
