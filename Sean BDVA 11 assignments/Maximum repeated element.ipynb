{
 "cells": [
  {
   "cell_type": "code",
   "execution_count": 78,
   "metadata": {},
   "outputs": [],
   "source": [
    "array = [1, 2, 3, 4, 4, 5, 4, 4 ,6]"
   ]
  },
  {
   "cell_type": "code",
   "execution_count": 79,
   "metadata": {},
   "outputs": [
    {
     "data": {
      "text/plain": [
       "4"
      ]
     },
     "execution_count": 79,
     "metadata": {},
     "output_type": "execute_result"
    }
   ],
   "source": [
    "# # Brute force approach\n",
    "def bruteForce(array):\n",
    "    max_counter = 0\n",
    "    for i in range(len(array)):\n",
    "        counter = 1\n",
    "        for j in range(i+1, len(array)):\n",
    "            if array[i] == array[j]:\n",
    "                counter +=1\n",
    "                \n",
    "        if counter > max_counter:\n",
    "            max_counter = counter\n",
    "            ele = array[i]\n",
    "            \n",
    "    return ele\n",
    "\n",
    "bruteForce(array)"
   ]
  },
  {
   "cell_type": "code",
   "execution_count": 80,
   "metadata": {},
   "outputs": [
    {
     "data": {
      "text/plain": [
       "4"
      ]
     },
     "execution_count": 80,
     "metadata": {},
     "output_type": "execute_result"
    }
   ],
   "source": [
    "# Using sorting\n",
    "def sortingMethod(array):\n",
    "    array.sort()\n",
    "    count = 1\n",
    "    max_count = 1\n",
    "    curr_ele = array[0]\n",
    "    max_ele = array[0]\n",
    "    for i in range(1, len(array)):\n",
    "        if curr_ele == array[i]:\n",
    "            count +=1\n",
    "        else:\n",
    "            if count > max_count:\n",
    "                max_count = count\n",
    "                max_ele = curr_ele\n",
    "            curr_ele = array[i]\n",
    "            count = 1\n",
    "        \n",
    "    return max_ele\n",
    "\n",
    "sortingMethod(array)"
   ]
  },
  {
   "cell_type": "code",
   "execution_count": 5,
   "metadata": {},
   "outputs": [
    {
     "data": {
      "text/plain": [
       "5"
      ]
     },
     "execution_count": 5,
     "metadata": {},
     "output_type": "execute_result"
    }
   ],
   "source": [
    "# Hashing Technique\n",
    "def hashingTechnique(array):\n",
    "    count = {}\n",
    "    for ele in array:\n",
    "        if ele not in count:\n",
    "            count[ele] = 1\n",
    "        else:\n",
    "            count[ele] += 1\n",
    "    \n",
    "    sorted_values = sorted(count.items(), key=lambda x: x[1], reverse=True)\n",
    "    return sorted_values[0][0]\n",
    "    \n",
    "hashingTechnique(array)"
   ]
  },
  {
   "cell_type": "code",
   "execution_count": 14,
   "metadata": {},
   "outputs": [
    {
     "data": {
      "text/plain": [
       "3"
      ]
     },
     "execution_count": 14,
     "metadata": {},
     "output_type": "execute_result"
    }
   ],
   "source": [
    "# Negation technique\n",
    "def modTechnique(array):\n",
    "    k = len(array)-1\n",
    "    for i in range(len(array)):\n",
    "        array[array[i]%k] += k\n",
    "    \n",
    "    max_value = array[0]\n",
    "    index = 0\n",
    "    for i in range(1,len(array)):\n",
    "        if array[i] > max_value:\n",
    "            max_value = array[i]\n",
    "            index = i\n",
    "    return index\n",
    "    \n",
    "    \n",
    "modTechnique(array)"
   ]
  },
  {
   "cell_type": "code",
   "execution_count": null,
   "metadata": {},
   "outputs": [],
   "source": []
  }
 ],
 "metadata": {
  "kernelspec": {
   "display_name": "Python 3",
   "language": "python",
   "name": "python3"
  },
  "language_info": {
   "codemirror_mode": {
    "name": "ipython",
    "version": 3
   },
   "file_extension": ".py",
   "mimetype": "text/x-python",
   "name": "python",
   "nbconvert_exporter": "python",
   "pygments_lexer": "ipython3",
   "version": "3.7.4"
  }
 },
 "nbformat": 4,
 "nbformat_minor": 4
}
