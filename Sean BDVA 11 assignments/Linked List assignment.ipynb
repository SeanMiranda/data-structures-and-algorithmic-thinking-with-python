{
 "cells": [
  {
   "cell_type": "code",
   "execution_count": 13,
   "metadata": {},
   "outputs": [],
   "source": [
    "# Problem 1: Given a linked list find the element located at (n%k)th position\n",
    "# Problem 2: Given a linked list find the element located at (n)^1/2 position\n",
    "# Problem 3: Determine if a linked list has a cycle, the start of the cycle and the number of nodes in the cycle\n",
    "# Problem 4: Find the intersection point of two linked lists\n",
    "\n",
    "class Node:\n",
    "    \n",
    "    def __init__(self, val=None, next=None):\n",
    "        self.val = val\n",
    "        self.next = next\n",
    "        \n",
    "class LinkedList:\n",
    "    \n",
    "    def __init__(self):\n",
    "        self.head = None\n",
    "    \n",
    "    def addNode(self, val):\n",
    "        node = Node(val)\n",
    "        \n",
    "        if self.head == None:\n",
    "            self.head = node\n",
    "        else:\n",
    "            p = self.head\n",
    "            while p.next!= None:\n",
    "                p = p.next\n",
    "            p.next = node\n",
    "            \n",
    "    def CreateLoop(self, n): \n",
    "        LoopNode = self.head \n",
    "        for _ in range(n): \n",
    "            LoopNode = LoopNode.next\n",
    "              \n",
    "        end = self.head \n",
    "        while end.next!=None: \n",
    "            end = end.next\n",
    "            \n",
    "        end.next = LoopNode\n",
    "        \n",
    "        \n",
    "    def merge(self, head1, head2):\n",
    "        \n",
    "        pA = head1\n",
    "        pB = head2\n",
    "        \n",
    "        while pA.next!= None:\n",
    "            pA = pA.next\n",
    "            \n",
    "        while pB.next!= None:\n",
    "            pB = pB.next\n",
    "            \n",
    "        pA.next = self.head\n",
    "        pB.next = self.head\n",
    "        \n",
    "        return head1, head2\n",
    "    \n",
    "        \n",
    "class Solutions:\n",
    "    \n",
    "    def Solution1(k, head):\n",
    "        \n",
    "        slow = fast = head\n",
    "        m = 0\n",
    "        while fast!=None:\n",
    "            fast= fast.next\n",
    "            slow = slow.next\n",
    "            m = m+1\n",
    "            if m%k == 0:\n",
    "                slow = head\n",
    "                m = 0\n",
    "                \n",
    "        return slow.val\n",
    "    \n",
    "    def Solution2(head):\n",
    "        \n",
    "        slow = fast = head\n",
    "        m = 0\n",
    "        p = 0\n",
    "        while fast!=None:\n",
    "            m = 1\n",
    "            while fast!= None and m<=p**2:\n",
    "                fast= fast.next\n",
    "                m +=1\n",
    "            p += 1\n",
    "            if fast == None:\n",
    "                break\n",
    "            else:\n",
    "                fast = head\n",
    "            slow = slow.next\n",
    "                \n",
    "        return slow.val\n",
    "    \n",
    "    \n",
    "    def Solution3(head):\n",
    "        slow = fast = head\n",
    "            \n",
    "        while fast!= None and fast.next!= None:\n",
    "            fast = fast.next.next\n",
    "            slow = slow.next\n",
    "            if slow == fast:\n",
    "                print('cycle present')\n",
    "                break\n",
    "            \n",
    "        if slow!=fast:\n",
    "            print('cycle not present')\n",
    "            return\n",
    "        \n",
    "        fast = head\n",
    "        \n",
    "        count=0\n",
    "        while slow!=fast:\n",
    "            slow= slow.next\n",
    "            fast = fast.next\n",
    "            count += 1\n",
    "            \n",
    "        print('Cycles starts at node',count)\n",
    "        \n",
    "        loop_length = 1\n",
    "        ptr = slow.next\n",
    "            \n",
    "        while ptr!=slow:\n",
    "            loop_length += 1\n",
    "            ptr = ptr.next\n",
    "            \n",
    "        print('loop length is',loop_length)\n",
    "        \n",
    "        \n",
    "    def Solution4(headA, headB):\n",
    "        \n",
    "        pA = headA\n",
    "        pB = headB\n",
    "        \n",
    "        while pA != pB:\n",
    "            pA = pA.next if pA!=None else headB\n",
    "            pB = pB.next if pB!=None else headA\n",
    "            \n",
    "        return pA\n",
    "        \n",
    "            "
   ]
  },
  {
   "cell_type": "code",
   "execution_count": 21,
   "metadata": {},
   "outputs": [
    {
     "data": {
      "text/plain": [
       "1"
      ]
     },
     "execution_count": 21,
     "metadata": {},
     "output_type": "execute_result"
    }
   ],
   "source": [
    "# Solution 1\n",
    "a = LinkedList()\n",
    "for i in range(4):\n",
    "    a.addNode(i)\n",
    "\n",
    "Solutions.Solution1(3,a.head)"
   ]
  },
  {
   "cell_type": "code",
   "execution_count": 26,
   "metadata": {},
   "outputs": [
    {
     "data": {
      "text/plain": [
       "5"
      ]
     },
     "execution_count": 26,
     "metadata": {},
     "output_type": "execute_result"
    }
   ],
   "source": [
    "# Solution 2\n",
    "a = LinkedList()\n",
    "for i in range(25):\n",
    "    a.addNode(i)\n",
    "\n",
    "Solutions.Solution2(a.head)"
   ]
  },
  {
   "cell_type": "code",
   "execution_count": 24,
   "metadata": {},
   "outputs": [
    {
     "name": "stdout",
     "output_type": "stream",
     "text": [
      "cycle present\n",
      "Cycles starts at node 1\n",
      "loop length is 3\n"
     ]
    }
   ],
   "source": [
    "a = LinkedList()\n",
    "for i in range(4):\n",
    "    a.addNode(i)\n",
    "\n",
    "a.CreateLoop(1)\n",
    "Solutions.Solution3(a.head)"
   ]
  },
  {
   "cell_type": "code",
   "execution_count": 27,
   "metadata": {},
   "outputs": [
    {
     "name": "stdout",
     "output_type": "stream",
     "text": [
      "Intersection occurs at node 10\n"
     ]
    }
   ],
   "source": [
    "a = LinkedList()\n",
    "for i in range(5):\n",
    "    a.addNode(i)\n",
    "    \n",
    "b = LinkedList()\n",
    "for i in range(5,10):\n",
    "    b.addNode(i)\n",
    "    \n",
    "c = LinkedList()\n",
    "for i in range(10,15):\n",
    "    c.addNode(i)\n",
    "\n",
    "head1, head2 = c.merge(a.head,b.head)\n",
    "\n",
    "\n",
    "intersection = Solutions.Solution4(a.head, b.head)\n",
    "print('Intersection occurs at node', intersection.val)"
   ]
  },
  {
   "cell_type": "code",
   "execution_count": null,
   "metadata": {},
   "outputs": [],
   "source": []
  }
 ],
 "metadata": {
  "kernelspec": {
   "display_name": "Python 3",
   "language": "python",
   "name": "python3"
  },
  "language_info": {
   "codemirror_mode": {
    "name": "ipython",
    "version": 3
   },
   "file_extension": ".py",
   "mimetype": "text/x-python",
   "name": "python",
   "nbconvert_exporter": "python",
   "pygments_lexer": "ipython3",
   "version": "3.7.4"
  }
 },
 "nbformat": 4,
 "nbformat_minor": 4
}
